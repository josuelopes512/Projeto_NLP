{
  "cells": [
    {
      "cell_type": "code",
      "execution_count": null,
      "metadata": {
        "id": "dObDfSqXtdrW"
      },
      "outputs": [],
      "source": [
        "!pip install pandas\n",
        "!pip install numpy\n",
        "!pip install nltk\n",
        "!pip install textract\n",
        "!pip install -U pip setuptools wheel\n",
        "!pip install -U spacy\n",
        "!python -m spacy download pt_core_news_sm"
      ]
    },
    {
      "cell_type": "markdown",
      "metadata": {
        "id": "QXZF6b85tdrZ"
      },
      "source": [
        "# NLP"
      ]
    },
    {
      "cell_type": "markdown",
      "metadata": {
        "id": "RXCBEJtEtdrb"
      },
      "source": [
        "##### VISÃO GERAL\n"
      ]
    },
    {
      "cell_type": "markdown",
      "metadata": {
        "id": "ed0QHux1tdrc"
      },
      "source": [
        "Uma empresa contratante deseja estabelecer termos de maior relevância em um documento\n",
        "específico. Neste caso, considere o histórico de exames, consultas e procedimentos realizados\n",
        "por um paciente. Um sistema deve ser desenvolvido para que o médico possa ter uma visão\n",
        "geral do histórico do paciente sem a necessidade de analisar documento por documento. Com\n",
        "base nesta importância, vamos desenvolver uma etapa deste sistema. Tokenizar um texto,\n",
        "realizar remoção de stopwords, aplicar o processo de lematização e fazer uma análise\n",
        "quantitativa e visual subjetiva deste."
      ]
    },
    {
      "cell_type": "markdown",
      "metadata": {
        "id": "QeUqaw70tdrd"
      },
      "source": [
        "##### OBJETIVOS\n"
      ]
    },
    {
      "cell_type": "markdown",
      "metadata": {
        "id": "x0f6S4dMtdrd"
      },
      "source": [
        "1. Carregar o conjunto de documentos em PDF e armazená-los em alguma estrutura de dados."
      ]
    },
    {
      "cell_type": "code",
      "execution_count": null,
      "metadata": {
        "id": "fIWut5Zktdre"
      },
      "outputs": [],
      "source": [
        "from glob import glob\n",
        "\n",
        "pdf_files = glob('documentos\\\\*.pdf') # Carregando os arquivos pdf"
      ]
    },
    {
      "cell_type": "code",
      "execution_count": null,
      "metadata": {
        "id": "OwOBbVIatdrf"
      },
      "outputs": [],
      "source": [
        "import textract\n",
        "\n",
        "read_pdfs = [textract.process(i, encoding='utf-8').decode('utf-8') for i in pdf_files]"
      ]
    },
    {
      "cell_type": "code",
      "execution_count": null,
      "metadata": {
        "id": "jSEu5o7gtdrg"
      },
      "outputs": [],
      "source": [
        "import pandas as pd\n",
        "\n",
        "df = pd.DataFrame(data={\"textos\": read_pdfs})\n",
        "df.textos = df.textos.astype('string')"
      ]
    },
    {
      "cell_type": "markdown",
      "metadata": {
        "id": "0O3rSdIZtdrh"
      },
      "source": [
        "2. Realizar o pré-processamento destes ( tokenização e remoção de stop words, deixar todos os\n",
        "caracteres minúsculos...)."
      ]
    },
    {
      "cell_type": "code",
      "execution_count": null,
      "metadata": {
        "id": "fr6Bo0Yitdri",
        "outputId": "09268fa5-b4e5-40a3-998f-9ace8478204e"
      },
      "outputs": [
        {
          "data": {
            "text/html": [
              "<div>\n",
              "<style scoped>\n",
              "    .dataframe tbody tr th:only-of-type {\n",
              "        vertical-align: middle;\n",
              "    }\n",
              "\n",
              "    .dataframe tbody tr th {\n",
              "        vertical-align: top;\n",
              "    }\n",
              "\n",
              "    .dataframe thead th {\n",
              "        text-align: right;\n",
              "    }\n",
              "</style>\n",
              "<table border=\"1\" class=\"dataframe\">\n",
              "  <thead>\n",
              "    <tr style=\"text-align: right;\">\n",
              "      <th></th>\n",
              "      <th>textos</th>\n",
              "    </tr>\n",
              "  </thead>\n",
              "  <tbody>\n",
              "    <tr>\n",
              "      <th>count</th>\n",
              "      <td>3</td>\n",
              "    </tr>\n",
              "    <tr>\n",
              "      <th>unique</th>\n",
              "      <td>3</td>\n",
              "    </tr>\n",
              "    <tr>\n",
              "      <th>top</th>\n",
              "      <td>O câncer de pulmão é a doença maligna mais com...</td>\n",
              "    </tr>\n",
              "    <tr>\n",
              "      <th>freq</th>\n",
              "      <td>1</td>\n",
              "    </tr>\n",
              "  </tbody>\n",
              "</table>\n",
              "</div>"
            ],
            "text/plain": [
              "                                                   textos\n",
              "count                                                   3\n",
              "unique                                                  3\n",
              "top     O câncer de pulmão é a doença maligna mais com...\n",
              "freq                                                    1"
            ]
          },
          "execution_count": 17,
          "metadata": {},
          "output_type": "execute_result"
        }
      ],
      "source": [
        "df.describe()"
      ]
    },
    {
      "cell_type": "code",
      "execution_count": null,
      "metadata": {
        "id": "8FH-3hrKtdrj"
      },
      "outputs": [],
      "source": [
        "import re\n",
        "from nltk.corpus import stopwords\n",
        "from nltk.tokenize import RegexpTokenizer \n",
        "from nltk import word_tokenize\n",
        "from spacy.lang.pt.stop_words import STOP_WORDS\n",
        "\n",
        "\n",
        "def remove_stopwords(word):\n",
        "    stop_words = list(set(stopwords.words('portuguese') + list(STOP_WORDS)))\n",
        "    return \" \".join([i for i in word_tokenize(word) if i not in stop_words])\n",
        "\n",
        "\n",
        "def standardize_text(df, text_field):   \n",
        "    df_copy = df.copy()\n",
        "    df_copy[text_field] = df_copy[text_field].str.lower()\n",
        "    df_copy[text_field] = df_copy[text_field].apply(lambda x: remove_stopwords(x))\n",
        "    df_copy[text_field] = df_copy[text_field].map(lambda x: re.sub(r'http\\S+', '', x))   \n",
        "    df_copy[text_field] = df_copy[text_field].str.replace(r\"http\", \"\")    \n",
        "    df_copy[text_field] = df_copy[text_field].map(lambda x: re.sub(r'\"@\\S+', '', x))   \n",
        "    df_copy[text_field] = df_copy[text_field].map(lambda x: re.sub(r'\\d+', '', x))   \n",
        "    df_copy[text_field] = df_copy[text_field].str.replace(r\"@\", \"at\")    \n",
        "    df_copy[text_field] = df_copy[text_field].str.strip()\n",
        "    return df_copy"
      ]
    },
    {
      "cell_type": "code",
      "execution_count": null,
      "metadata": {
        "id": "L7-lYsrCtdrk",
        "outputId": "4a5ef584-87c7-4c12-daf5-63f9b4811785"
      },
      "outputs": [
        {
          "data": {
            "text/html": [
              "<div>\n",
              "<style scoped>\n",
              "    .dataframe tbody tr th:only-of-type {\n",
              "        vertical-align: middle;\n",
              "    }\n",
              "\n",
              "    .dataframe tbody tr th {\n",
              "        vertical-align: top;\n",
              "    }\n",
              "\n",
              "    .dataframe thead th {\n",
              "        text-align: right;\n",
              "    }\n",
              "</style>\n",
              "<table border=\"1\" class=\"dataframe\">\n",
              "  <thead>\n",
              "    <tr style=\"text-align: right;\">\n",
              "      <th></th>\n",
              "      <th>textos</th>\n",
              "    </tr>\n",
              "  </thead>\n",
              "  <tbody>\n",
              "    <tr>\n",
              "      <th>0</th>\n",
              "      <td>câncer pulmão doença maligna comum mundo ; cas...</td>\n",
              "    </tr>\n",
              "    <tr>\n",
              "      <th>1</th>\n",
              "      <td>relativamente poucos dados brasil respeito cân...</td>\n",
              "    </tr>\n",
              "    <tr>\n",
              "      <th>2</th>\n",
              "      <td>dados exatos respeito procedimentos cirúrgicos...</td>\n",
              "    </tr>\n",
              "  </tbody>\n",
              "</table>\n",
              "</div>"
            ],
            "text/plain": [
              "                                              textos\n",
              "0  câncer pulmão doença maligna comum mundo ; cas...\n",
              "1  relativamente poucos dados brasil respeito cân...\n",
              "2  dados exatos respeito procedimentos cirúrgicos..."
            ]
          },
          "execution_count": 19,
          "metadata": {},
          "output_type": "execute_result"
        }
      ],
      "source": [
        "clean_questions = standardize_text(df, \"textos\") \n",
        "clean_questions"
      ]
    },
    {
      "cell_type": "code",
      "execution_count": null,
      "metadata": {
        "id": "pGCCbIU6tdrk",
        "outputId": "50ba59fd-07bc-4ea7-c73c-856b83e01900"
      },
      "outputs": [
        {
          "data": {
            "text/html": [
              "<div>\n",
              "<style scoped>\n",
              "    .dataframe tbody tr th:only-of-type {\n",
              "        vertical-align: middle;\n",
              "    }\n",
              "\n",
              "    .dataframe tbody tr th {\n",
              "        vertical-align: top;\n",
              "    }\n",
              "\n",
              "    .dataframe thead th {\n",
              "        text-align: right;\n",
              "    }\n",
              "</style>\n",
              "<table border=\"1\" class=\"dataframe\">\n",
              "  <thead>\n",
              "    <tr style=\"text-align: right;\">\n",
              "      <th></th>\n",
              "      <th>textos</th>\n",
              "      <th>tokens</th>\n",
              "    </tr>\n",
              "  </thead>\n",
              "  <tbody>\n",
              "    <tr>\n",
              "      <th>0</th>\n",
              "      <td>câncer pulmão doença maligna comum mundo ; cas...</td>\n",
              "      <td>[câncer, pulmão, doença, maligna, comum, mundo...</td>\n",
              "    </tr>\n",
              "    <tr>\n",
              "      <th>1</th>\n",
              "      <td>relativamente poucos dados brasil respeito cân...</td>\n",
              "      <td>[relativamente, poucos, dados, brasil, respeit...</td>\n",
              "    </tr>\n",
              "    <tr>\n",
              "      <th>2</th>\n",
              "      <td>dados exatos respeito procedimentos cirúrgicos...</td>\n",
              "      <td>[dados, exatos, respeito, procedimentos, cirúr...</td>\n",
              "    </tr>\n",
              "  </tbody>\n",
              "</table>\n",
              "</div>"
            ],
            "text/plain": [
              "                                              textos  \\\n",
              "0  câncer pulmão doença maligna comum mundo ; cas...   \n",
              "1  relativamente poucos dados brasil respeito cân...   \n",
              "2  dados exatos respeito procedimentos cirúrgicos...   \n",
              "\n",
              "                                              tokens  \n",
              "0  [câncer, pulmão, doença, maligna, comum, mundo...  \n",
              "1  [relativamente, poucos, dados, brasil, respeit...  \n",
              "2  [dados, exatos, respeito, procedimentos, cirúr...  "
            ]
          },
          "execution_count": 20,
          "metadata": {},
          "output_type": "execute_result"
        }
      ],
      "source": [
        "from nltk.tokenize import RegexpTokenizer \n",
        "tokenizer = RegexpTokenizer(r'\\w+') \n",
        "clean_questions[\"tokens\"] = clean_questions[\"textos\"].apply(tokenizer.tokenize)\n",
        "clean_questions.head()"
      ]
    },
    {
      "cell_type": "code",
      "execution_count": null,
      "metadata": {
        "id": "tIZJXFWKtdrl",
        "outputId": "b61bb546-24ce-485e-caae-8538667ae6e2"
      },
      "outputs": [
        {
          "name": "stdout",
          "output_type": "stream",
          "text": [
            "668 Quantidade total de palavras, com um vocabulario de 355\n",
            "Tamanho máximo de uma sentença 298\n"
          ]
        }
      ],
      "source": [
        "#Inspecionando novamente os dados \n",
        "\n",
        "all_words = [word for tokens in clean_questions[\"tokens\"] for word in tokens]\n",
        "sentence_lengths = [len(tokens) for tokens in clean_questions[\"tokens\"]] \n",
        "VOCAB = sorted(list(set(all_words))) \n",
        "print(\"%s Quantidade total de palavras, com um vocabulario de %s\" % (len(all_words), len(VOCAB))) \n",
        "print(\"Tamanho máximo de uma sentença %s\" % max(sentence_lengths))"
      ]
    },
    {
      "cell_type": "code",
      "execution_count": null,
      "metadata": {
        "id": "z0NOb_e8tdrl",
        "outputId": "33b3fa53-6562-492f-a238-b4d9bfa09383"
      },
      "outputs": [
        {
          "data": {
            "image/png": "[encoded data removed]",
            "text/plain": [
              "<Figure size 360x360 with 1 Axes>"
            ]
          },
          "metadata": {
            "needs_background": "light"
          },
          "output_type": "display_data"
        }
      ],
      "source": [
        "import matplotlib.pyplot as plt\n",
        "\n",
        "\n",
        "#Distribuição das sentenças por quantidade de palavras \n",
        "\n",
        "fig = plt.figure(figsize=(5, 5)) \n",
        "plt.xlabel('Tamanho da setença') \n",
        "plt.ylabel('Número de sentenças') \n",
        "plt.hist(sentence_lengths) \n",
        "plt.show()"
      ]
    },
    {
      "cell_type": "markdown",
      "metadata": {
        "id": "DtBF8pVGtdrm"
      },
      "source": [
        "3. Lematização com a Lib stanza"
      ]
    },
    {
      "cell_type": "code",
      "execution_count": null,
      "metadata": {
        "id": "u6oCXS_xtdrm"
      },
      "outputs": [],
      "source": []
    },
    {
      "cell_type": "markdown",
      "metadata": {
        "id": "2c16Gpa4tdrn"
      },
      "source": [
        "4. Implementar para determinar as seguintes informações dos resultados obtidos em 3:"
      ]
    },
    {
      "cell_type": "markdown",
      "metadata": {
        "id": "KgX_DUmotdrn"
      },
      "source": [
        "4. <br>  1. Term Frequency (TF):\n",
        "<br> 𝑇𝐹 = 𝑞𝑡𝑑 𝑑𝑒 𝑜𝑐𝑜𝑟𝑟ê𝑛𝑐𝑖𝑎 𝑑𝑜 𝑡𝑒𝑟𝑚𝑜 𝑒𝑚 𝑢𝑚 𝑡𝑒𝑥𝑡𝑜 / 𝑞𝑢𝑎𝑛𝑡𝑖𝑑𝑎𝑑𝑒 𝑡𝑜𝑡𝑎𝑙 𝑑𝑒 𝑝𝑎𝑙𝑎𝑣𝑟𝑎𝑠 𝑑𝑜 𝑡𝑒𝑥𝑡𝑜\n"
      ]
    },
    {
      "cell_type": "markdown",
      "metadata": {
        "id": "3E13HqTMtdrn"
      },
      "source": [
        "4. <br>  2. Document Frequency (DF):\n",
        "<br> 𝐷𝐹 = 𝑞𝑡𝑑 𝑑𝑒 𝑜𝑐𝑜𝑟𝑟ê𝑛𝑐𝑖𝑎 𝑑𝑜 𝑡𝑒𝑟𝑚𝑜 𝑒𝑚 𝑢𝑚 𝑐𝑜𝑛𝑗𝑢𝑛𝑡𝑜 𝑑𝑒 𝑑𝑜𝑐𝑢𝑚𝑒𝑛𝑡𝑜𝑠\n"
      ]
    },
    {
      "cell_type": "markdown",
      "metadata": {
        "id": "tpX8HHHAtdro"
      },
      "source": [
        "4. <br>  3. Inverse Document Frequency (IDF):\n",
        "<br> 𝐼𝐷𝐹 = 𝑙𝑜𝑔(𝑞𝑡𝑑 𝑑𝑒 𝑑𝑜𝑐𝑢𝑚𝑒𝑛𝑡𝑜𝑠 / (𝐷𝐹 + 1))\n"
      ]
    },
    {
      "cell_type": "markdown",
      "metadata": {
        "id": "i8dGYxlctdro"
      },
      "source": [
        "4. <br>  4. TF-IDF:\n",
        "<br> 𝑇𝐹 − 𝐼𝐷𝐹 = 𝐼𝐷𝐹 * 𝑇𝐹\n"
      ]
    },
    {
      "cell_type": "markdown",
      "metadata": {
        "id": "cMPzAoZHtdro"
      },
      "source": [
        "4. <br>  5. Lista de strings com proximidade até 2 dos 5 termos de maior TF-IDF. Essas strings\n",
        "devem ser acompanhadas de seu valor de TF. Exemplo: Suponha que a lista dos 5 termos de maior TF-IDF é [ casa, carro, comida, cachorro, gato]. Carro em um uma frase pode ter pneu e\n",
        "banco com as palavras mais próximas. Em outra parte do texto, carro pode ter volante e cinto,\n",
        "como as palavras mais próximas. Neste caso, para o termo carro, as strings [\n",
        "pneu,banco,volante,cinto] são as que devem ser armazenadas para análise."
      ]
    },
    {
      "cell_type": "code",
      "execution_count": null,
      "metadata": {
        "id": "j-MWpaTftdro"
      },
      "outputs": [],
      "source": []
    },
    {
      "cell_type": "markdown",
      "metadata": {
        "id": "aP_Vh6VHtdrp"
      },
      "source": [
        "5. Gerar um arquivo csv que possui todas as palavras de todos os documentos na primeira coluna,\n",
        "em que cada linha é um token. Para cada token, informe nas colunas vizinhas as informações\n",
        "determinadas no objetivo 4.1 até 4.4."
      ]
    },
    {
      "cell_type": "code",
      "execution_count": 1,
      "metadata": {
        "id": "MTSCd_OVtdrp"
      },
      "outputs": [],
      "source": [
        "# Resolvendo a questão 5 utilizando dados sintéticos.\n",
        "# Dados\n",
        "word_array = [\"aloha\", \"gola\", \"camelo\", \"artigo\", \"nano\"]\n",
        "tf_array = [2,9,6,19,12]\n",
        "df_array = [10,20,15,50,42]\n",
        "idf_array = [5, 3, 6, 3, 9]\n",
        "tf_idf_array = [1.3, 5.6, 7.2, 3.2, 8.9]\n",
        "\n",
        "\n",
        "# Função\n",
        "import numpy as np\n",
        "import pandas as pd\n",
        "\n",
        "def generate_token_dataframe(token_list: list,\n",
        "                             metrics_list: list,\n",
        "                             columns: list,\n",
        "                             to_csv: bool = False) -> pd.core.frame.DataFrame:\n",
        "    \"\"\"\n",
        "    Returns a pandas DataFrame class object and saves it to a .csv file if to_csv == True.\n",
        "    \"\"\"\n",
        " \n",
        "    token_dataframe = pd.DataFrame(list(zip(*metrics_list)),\n",
        "                                  index=token_list,\n",
        "                                  columns=columns)\n",
        "    if to_csv:\n",
        "      token_dataframe.to_csv(\"token_dataframe.csv\",index=True)\n",
        "    \n",
        "    return token_dataframe\n",
        "\n",
        "# Demonstração\n",
        "\n",
        "\n",
        "data_1 = generate_token_dataframe(token_list=word_array,\n",
        "                                  metrics_list=[tf_array, df_array,idf_array,tf_idf_array],\n",
        "                                  columns=[\"TF\",\"DF\", \"IDF\",\"TF-IDF\"],\n",
        "                                  to_csv=False)\n",
        "\n",
        "data_1.head()"
      ]
    },
    {
      "cell_type": "markdown",
      "metadata": {
        "id": "7m6Zd7mBtdrp"
      },
      "source": [
        "6. Gerar nuvem de palavras para análise visual tal como exemplo abaixo. Cada ponto central será\n",
        "um dos 5 termos de maior TF-IDF. As conexões são as palavras próximas obtidas em 4.5. O\n",
        "tamanho do círculo da palavra é baseado no TF dela. O maior círculo que conecta o termo\n",
        "central será normalizado para palavras de maior TF do conjunto.\n",
        "![MarineGEO circle logo](https://i.imgur.com/gNv4V7l.png \"MarineGEO logo\")\n",
        "\n"
      ]
    },
    {
      "cell_type": "code",
      "execution_count": null,
      "metadata": {
        "id": "F9kYFDFMtdrp"
      },
      "outputs": [],
      "source": []
    },
    {
      "cell_type": "markdown",
      "metadata": {
        "id": "WPnlq3YAtdrp"
      },
      "source": [
        "**Tópicos de Auxílio**\n",
        "<br>\n",
        "<br>\n",
        "<br>\n",
        "Informações sobre as métricas utilizadas\n",
        "<br>\n",
        "https://towardsdatascience.com/tf-idf-for-document-ranking-from-scratch-in-python-on-real-world-dataset-796d339a4089\n",
        "<br>\n",
        "<br>\n",
        "Atividade determinação da nuvem de palavras\n",
        "<br>\n",
        "https://www.kaggle.com/code/arthurtok/ghastly-network-and-d3-js-force-directed-graphs/notebook\n",
        "<br>\n",
        "http://andrewtrick.com/stormlight_network.html"
      ]
    }
  ],
  "metadata": {
    "colab": {
      "collapsed_sections": [],
      "name": "projeto_nlp.ipynb",
      "provenance": []
    },
    "interpreter": {
      "hash": "96068ab639a04010ce0ebf4d92aa5fa1d95945955db043eb093ed651d9ac7c11"
    },
    "kernelspec": {
      "display_name": "Python 3 (ipykernel)",
      "language": "python",
      "name": "python3"
    },
    "language_info": {
      "codemirror_mode": {
        "name": "ipython",
        "version": 3
      },
      "file_extension": ".py",
      "mimetype": "text/x-python",
      "name": "python",
      "nbconvert_exporter": "python",
      "pygments_lexer": "ipython3",
      "version": "3.9.7"
    }
  },
  "nbformat": 4,
  "nbformat_minor": 0
}
