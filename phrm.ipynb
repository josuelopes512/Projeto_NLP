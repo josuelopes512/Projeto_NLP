{
 "cells": [
  {
   "cell_type": "code",
   "execution_count": 1,
   "id": "7ecc7805-403c-429f-a0b9-07225f8d5f29",
   "metadata": {},
   "outputs": [],
   "source": [
    "# Patient History Representation Model (PHRM)"
   ]
  },
  {
   "cell_type": "code",
   "execution_count": 2,
   "id": "00af9465-a318-4f10-a2ed-89f2bec54f4a",
   "metadata": {},
   "outputs": [],
   "source": [
    "# -*- coding: utf-8 -*-"
   ]
  },
  {
   "cell_type": "code",
   "execution_count": 17,
   "id": "be88b724-8339-4d2e-894a-e5bede6eff8e",
   "metadata": {},
   "outputs": [],
   "source": [
    "import fitz as fz\n",
    "import pandas as pd\n",
    "from nltk.tokenize import RegexpTokenizer"
   ]
  },
  {
   "cell_type": "code",
   "execution_count": 4,
   "id": "5f3086b6-d017-4672-a973-3064123b3102",
   "metadata": {},
   "outputs": [],
   "source": [
    "with fz.open(\"texto1.pdf\") as doc:\n",
    "    text1 = \"\"\n",
    "    for pdf in doc:\n",
    "        text1 += pdf.get_text()"
   ]
  },
  {
   "cell_type": "code",
   "execution_count": 5,
   "id": "fe320070-bb02-4b3c-a39d-32ef2935e3a9",
   "metadata": {},
   "outputs": [],
   "source": [
    "with fz.open(\"texto2.pdf\") as doc:\n",
    "    text2= \"\"\n",
    "    for pdf in doc:\n",
    "        text2 += pdf.get_text()"
   ]
  },
  {
   "cell_type": "code",
   "execution_count": 6,
   "id": "2f36c496-7f34-4de2-8e27-5c9fe68d3072",
   "metadata": {},
   "outputs": [],
   "source": [
    "with fz.open(\"texto3.pdf\") as doc:\n",
    "    text3 = \"\"\n",
    "    for pdf in doc:\n",
    "        text3 += pdf.get_text()"
   ]
  },
  {
   "cell_type": "code",
   "execution_count": 7,
   "id": "16210fcf-c5f4-4648-97cd-2dc339ebd7c6",
   "metadata": {},
   "outputs": [],
   "source": [
    "text_full = text1 + text2 + text3"
   ]
  },
  {
   "cell_type": "code",
   "execution_count": 8,
   "id": "f8415518-eb72-458d-8fb8-afe79ebe9f85",
   "metadata": {},
   "outputs": [],
   "source": [
    "text_lines = text_full.split('\\n')"
   ]
  },
  {
   "cell_type": "code",
   "execution_count": 9,
   "id": "59afe27f-6028-45d4-a202-276a76b594c2",
   "metadata": {},
   "outputs": [],
   "source": [
    "dataf = pd.DataFrame(text_lines)"
   ]
  },
  {
   "cell_type": "code",
   "execution_count": 10,
   "id": "5be19ffd-eb50-4316-86e4-a874f9e92041",
   "metadata": {},
   "outputs": [],
   "source": [
    "dataf.columns = ['text_col']"
   ]
  },
  {
   "cell_type": "code",
   "execution_count": 11,
   "id": "495f822c-7598-49b5-a854-3f240cac1b57",
   "metadata": {},
   "outputs": [],
   "source": [
    "dataf.to_csv('text_lines.csv', index = False, encoding='Windows-1252')"
   ]
  },
  {
   "cell_type": "code",
   "execution_count": 12,
   "id": "745e77f4-38b7-4f46-8bc5-8a77eb80dc94",
   "metadata": {},
   "outputs": [],
   "source": [
    "text_lines = pd.read_csv('text_lines.csv', encoding='Windows-1252')"
   ]
  },
  {
   "cell_type": "code",
   "execution_count": 13,
   "id": "cdfe5ed5-11f6-4155-b32e-302fe9e08462",
   "metadata": {},
   "outputs": [
    {
     "name": "stdout",
     "output_type": "stream",
     "text": [
      "                                              text_col\n",
      "0    O câncer de pulmão é a doença maligna mais com...\n",
      "1    os novos casos de câncer, 13% são de câncer de...\n",
      "2    Burden of Disease Study 2015, o câncer de pulm...\n",
      "3    mortalidade por câncer — mais de 1,7-1,8 milhõ...\n",
      "4    os tipos de câncer, o que apresenta a maior ta...\n",
      "..                                                 ...\n",
      "165  mortalidade um pouco menor (de aproximadamente...\n",
      "166  possível melhorar a cirurgia de câncer de pulm...\n",
      "167  disponibilidade de novas técnicas, tais como a...\n",
      "168                           acelerem esse processo. \n",
      "169                                                NaN\n",
      "\n",
      "[170 rows x 1 columns]\n",
      "<class 'pandas.core.frame.DataFrame'>\n"
     ]
    }
   ],
   "source": [
    "print(text_lines)\n",
    "print(type(text_lines))"
   ]
  },
  {
   "cell_type": "code",
   "execution_count": 14,
   "id": "f1a29935-946c-474f-9e25-63515d876741",
   "metadata": {},
   "outputs": [
    {
     "name": "stdout",
     "output_type": "stream",
     "text": [
      "                                              text_col\n",
      "165  mortalidade um pouco menor (de aproximadamente...\n",
      "166  possível melhorar a cirurgia de câncer de pulm...\n",
      "167  disponibilidade de novas técnicas, tais como a...\n",
      "168                           acelerem esse processo. \n",
      "169                                                NaN\n",
      "       text_col\n",
      "count       169\n",
      "unique      157\n",
      "top         de \n",
      "freq          4\n"
     ]
    }
   ],
   "source": [
    "print(text_lines.tail())\n",
    "print(text_lines.describe())"
   ]
  },
  {
   "cell_type": "code",
   "execution_count": 15,
   "id": "ff73a2a5-2c24-4e2a-9fa3-41252750f350",
   "metadata": {},
   "outputs": [],
   "source": [
    "def standardize_text(df, text_field):\n",
    "    df[text_field] = df[text_field].str.replace(r\"ã\", \"a\")\n",
    "    df[text_field] = df[text_field].str.replace(r\"â\", \"a\")\n",
    "    df[text_field] = df[text_field].str.replace(r\"á\", \"a\")\n",
    "    df[text_field] = df[text_field].str.replace(r\"à\", \"a\")\n",
    "    df[text_field] = df[text_field].str.replace(r\"ê\", \"e\")\n",
    "    df[text_field] = df[text_field].str.replace(r\"é\", \"e\")\n",
    "    df[text_field] = df[text_field].str.replace(r\"õ\", \"o\")\n",
    "    df[text_field] = df[text_field].str.replace(r\"ô\", \"o\")\n",
    "    df[text_field] = df[text_field].str.replace(r\"ó\", \"o\")\n",
    "    df[text_field] = df[text_field].str.replace(r\"í\", \"i\")\n",
    "    df[text_field] = df[text_field].str.replace(r\"ú\", \"u\")\n",
    "    df[text_field] = df[text_field].str.replace(r\"ç\", \"c\")\n",
    "    df[text_field] = df[text_field].str.replace(r\"http\\S+\", \"\")\n",
    "    df[text_field] = df[text_field].str.replace(r\"http\", \"\")\n",
    "    df[text_field] = df[text_field].str.replace(r\"@\\S+\", \"\")\n",
    "    df[text_field] = df[text_field].str.replace(r\"[^A-Za-z0-9(),!?@\\'\\`\\\"\\_\\n]\", \" \")\n",
    "    df[text_field] = df[text_field].str.replace(r\"@\", \"at\")\n",
    "    df[text_field] = df[text_field].str.lower()\n",
    "    return df"
   ]
  },
  {
   "cell_type": "code",
   "execution_count": 16,
   "id": "ec198299-7e9f-4d33-9e7d-829a30e4660f",
   "metadata": {},
   "outputs": [
    {
     "name": "stderr",
     "output_type": "stream",
     "text": [
      "C:\\Windows\\Temp\\ipykernel_28408\\213653456.py:14: FutureWarning: The default value of regex will change from True to False in a future version.\n",
      "  df[text_field] = df[text_field].str.replace(r\"http\\S+\", \"\")\n",
      "\n",
      "C:\\Windows\\Temp\\ipykernel_28408\\213653456.py:16: FutureWarning: The default value of regex will change from True to False in a future version.\n",
      "  df[text_field] = df[text_field].str.replace(r\"@\\S+\", \"\")\n",
      "\n",
      "C:\\Windows\\Temp\\ipykernel_28408\\213653456.py:17: FutureWarning: The default value of regex will change from True to False in a future version.\n",
      "  df[text_field] = df[text_field].str.replace(r\"[^A-Za-z0-9(),!?@\\'\\`\\\"\\_\\n]\", \" \")\n",
      "\n"
     ]
    }
   ],
   "source": [
    "clean_text_col = standardize_text(text_lines, \"text_col\")\n",
    "clean_text_col.to_csv(\"clean_data.csv\")"
   ]
  },
  {
   "cell_type": "code",
   "execution_count": null,
   "id": "e57b099b-dec9-409e-90a1-d28d10380ecd",
   "metadata": {},
   "outputs": [],
   "source": []
  }
 ],
 "metadata": {
  "kernelspec": {
   "display_name": "Python 3 (ipykernel)",
   "language": "python",
   "name": "python3"
  },
  "language_info": {
   "codemirror_mode": {
    "name": "ipython",
    "version": 3
   },
   "file_extension": ".py",
   "mimetype": "text/x-python",
   "name": "python",
   "nbconvert_exporter": "python",
   "pygments_lexer": "ipython3",
   "version": "3.9.6"
  }
 },
 "nbformat": 4,
 "nbformat_minor": 5
}
